{
 "cells": [
  {
   "cell_type": "markdown",
   "id": "953feb81-4287-4deb-99a1-d43d2733cfd2",
   "metadata": {},
   "source": [
    "# 1.Write a program to create a dictionary of hindi words with values as their english translation.Provide user with an option to look it up!"
   ]
  },
  {
   "cell_type": "code",
   "execution_count": 2,
   "id": "9775b8a4-65ec-4c1b-af6f-b03bad733e1e",
   "metadata": {},
   "outputs": [
    {
     "name": "stdout",
     "output_type": "stream",
     "text": [
      "Opions are: dict_keys(['Pankha', 'Dabba', 'Vastu'])\n"
     ]
    },
    {
     "name": "stdin",
     "output_type": "stream",
     "text": [
      "Enter the hindi words: Pankha\n"
     ]
    },
    {
     "name": "stdout",
     "output_type": "stream",
     "text": [
      "The english traslation of your word is: Fan\n"
     ]
    }
   ],
   "source": [
    "my_dict = {'Pankha' : 'Fan',\n",
    "           'Dabba' : 'Box',\n",
    "           'Vastu' : 'Item'\n",
    "          }\n",
    "\n",
    "print(\"Opions are:\", my_dict.keys())\n",
    "\n",
    "name = input(\"Enter the hindi words:\")\n",
    "\n",
    "print(\"The english traslation of your word is:\",my_dict.get(name))"
   ]
  },
  {
   "cell_type": "markdown",
   "id": "1d99115c-dd73-4246-89b7-5936cc6409cd",
   "metadata": {},
   "source": [
    "# 2. Write a program to input eight numbers from the user and display all the unique numbers(once)."
   ]
  },
  {
   "cell_type": "code",
   "execution_count": 6,
   "id": "62a3f501-dd7b-4106-a026-2414b17b147d",
   "metadata": {},
   "outputs": [
    {
     "name": "stdin",
     "output_type": "stream",
     "text": [
      "Enter the number 1:  78\n",
      "Enter the number 2:  55\n",
      "Enter the number 3:  45\n",
      "Enter the number 4:  36\n",
      "Enter the number 5:  98\n",
      "Enter the number 6:  78\n",
      "Enter the number 7:  11\n",
      "Enter the number 8:  24\n"
     ]
    },
    {
     "name": "stdout",
     "output_type": "stream",
     "text": [
      "{98, 36, 11, 45, 78, 55, 24}\n"
     ]
    }
   ],
   "source": [
    "num1 = int(input(\"Enter the number 1: \"))\n",
    "num2 = int(input(\"Enter the number 2: \"))\n",
    "num3 = int(input(\"Enter the number 3: \"))\n",
    "num4 = int(input(\"Enter the number 4: \"))\n",
    "num5 = int(input(\"Enter the number 5: \"))\n",
    "num6 = int(input(\"Enter the number 6: \"))\n",
    "num7 = int(input(\"Enter the number 7: \"))\n",
    "num8 = int(input(\"Enter the number 8: \"))\n",
    "\n",
    "S = {num1, num2, num3, num4, num5, num6, num7, num8}\n",
    "\n",
    "print(S)"
   ]
  },
  {
   "cell_type": "markdown",
   "id": "4d9ffa3e-f09b-4fd6-868b-4d7b4e301fc5",
   "metadata": {},
   "source": [
    "# 3.Can we have a set with 18(int) and \"18\"(str) as a values in it."
   ]
  },
  {
   "cell_type": "code",
   "execution_count": 10,
   "id": "1f62005f-f398-4a35-bf10-4a362de36c4e",
   "metadata": {},
   "outputs": [
    {
     "name": "stdout",
     "output_type": "stream",
     "text": [
      "{18, '18'}\n"
     ]
    }
   ],
   "source": [
    "s = {18, \"18\"}\n",
    "print(s)"
   ]
  },
  {
   "cell_type": "markdown",
   "id": "8908f01a-7b44-4636-9f74-879b3924d0bf",
   "metadata": {},
   "source": [
    "# 4.What will be the following set S:\n",
    "    S = set()\n",
    "    s.add(20)\n",
    "    s.add(20.0)\n",
    "    s.add(\"20\")\n",
    "\n",
    "# Length of S after these operations?"
   ]
  },
  {
   "cell_type": "code",
   "execution_count": 17,
   "id": "166aae4a-ffb0-41b4-8fe0-c06532340757",
   "metadata": {},
   "outputs": [
    {
     "name": "stdout",
     "output_type": "stream",
     "text": [
      "{'20', 20}\n",
      "2\n"
     ]
    }
   ],
   "source": [
    "S = set()\n",
    "S.add(20)\n",
    "S.add(20.0)\n",
    "S.add(\"20\")\n",
    "print(S)\n",
    "print(len(S))"
   ]
  },
  {
   "cell_type": "markdown",
   "id": "c6ec0480-c957-46ba-9556-6afcc0a5fa8f",
   "metadata": {},
   "source": [
    "# 5. S = { }, What is the type of S?"
   ]
  },
  {
   "cell_type": "code",
   "execution_count": 20,
   "id": "eabeb6e3-063a-4945-b8ab-ad589fb0c35b",
   "metadata": {},
   "outputs": [
    {
     "name": "stdout",
     "output_type": "stream",
     "text": [
      "<class 'dict'>\n"
     ]
    }
   ],
   "source": [
    "S = {}\n",
    "print(type(S))"
   ]
  },
  {
   "cell_type": "markdown",
   "id": "8063b228-3d74-42e0-b778-5c1f02835d96",
   "metadata": {},
   "source": [
    "# 6.Create an empty dictionary. Allow 4 friends to enter their favourite language as values and keys as their names. Assume that the names are unique."
   ]
  },
  {
   "cell_type": "code",
   "execution_count": 34,
   "id": "cf3cabe4-55c3-47fa-8631-b1037c17cc32",
   "metadata": {},
   "outputs": [
    {
     "name": "stdin",
     "output_type": "stream",
     "text": [
      "Enter your name A\n",
      " Ram\n",
      "Enter your favourite language A\n",
      " Hindi\n",
      "Enter your name B\n",
      " Rahul\n",
      "Enter your favourite language B\n",
      " English\n",
      "Enter your name C\n",
      " Sara\n",
      "Enter your favourite language C\n",
      " French\n",
      "Enter your name D\n",
      " Sahil\n",
      "Enter your favourite language D\n",
      " German\n"
     ]
    },
    {
     "name": "stdout",
     "output_type": "stream",
     "text": [
      "{'Ram': 'Hindi', 'Rahul': 'English', 'Sara': 'French', 'Sahil': 'German'}\n"
     ]
    }
   ],
   "source": [
    "fav_lan = {}\n",
    "\n",
    "A = input(\"Enter your name A\\n\")\n",
    "a = input(\"Enter your favourite language A\\n\")\n",
    "\n",
    "B = input(\"Enter your name B\\n\")\n",
    "b = input(\"Enter your favourite language B\\n\")\n",
    "\n",
    "C = input(\"Enter your name C\\n\")\n",
    "c = input(\"Enter your favourite language C\\n\")\n",
    "\n",
    "D = input(\"Enter your name D\\n\")\n",
    "d = input(\"Enter your favourite language D\\n\")\n",
    "\n",
    "fav_lan[A] = a\n",
    "fav_lan[B] = b\n",
    "fav_lan[C] = c\n",
    "fav_lan[D] = d\n",
    "\n",
    "print(fav_lan)"
   ]
  },
  {
   "cell_type": "markdown",
   "id": "f7c071c2-ec3f-4f9e-9eb9-8471a89edfbc",
   "metadata": {},
   "source": [
    "# 7.If names of 2 friends are same; what will to the program in Problem 6."
   ]
  },
  {
   "cell_type": "code",
   "execution_count": 37,
   "id": "fbfd0c1a-dca6-4267-bf11-8b5c70bf8abc",
   "metadata": {},
   "outputs": [
    {
     "name": "stdin",
     "output_type": "stream",
     "text": [
      "Enter your name A\n",
      " Ram\n",
      "Enter your favourite language A\n",
      " Hindi\n",
      "Enter your name B\n",
      " Ram\n",
      "Enter your favourite language B\n",
      " English\n",
      "Enter your name C\n",
      " Sara\n",
      "Enter your favourite language C\n",
      " French\n",
      "Enter your name D\n",
      " Sahil\n",
      "Enter your favourite language D\n",
      " Spanish\n"
     ]
    },
    {
     "name": "stdout",
     "output_type": "stream",
     "text": [
      "{'Ram': 'English', 'Sara': 'French', 'Sahil': 'Spanish'}\n"
     ]
    }
   ],
   "source": [
    "fav_lan = {}\n",
    "\n",
    "A = input(\"Enter your name A\\n\")\n",
    "a = input(\"Enter your favourite language A\\n\")\n",
    "\n",
    "B = input(\"Enter your name B\\n\")\n",
    "b = input(\"Enter your favourite language B\\n\")\n",
    "\n",
    "C = input(\"Enter your name C\\n\")\n",
    "c = input(\"Enter your favourite language C\\n\")\n",
    "\n",
    "D = input(\"Enter your name D\\n\")\n",
    "d = input(\"Enter your favourite language D\\n\")\n",
    "\n",
    "fav_lan[A] = a\n",
    "fav_lan[B] = b\n",
    "fav_lan[C] = c\n",
    "fav_lan[D] = d\n",
    "\n",
    "print(fav_lan)"
   ]
  },
  {
   "cell_type": "markdown",
   "id": "8daa50eb-f08c-4a46-bf79-687f85d718b8",
   "metadata": {},
   "source": [
    "# 8.If languages of two friends are same; What will happen to the program in problem 6?"
   ]
  },
  {
   "cell_type": "code",
   "execution_count": 42,
   "id": "e5bc8223-9d89-4d96-8ca0-f783441fbe7c",
   "metadata": {},
   "outputs": [
    {
     "name": "stdin",
     "output_type": "stream",
     "text": [
      "Enter your name A\n",
      " Ram\n",
      "Enter your favourite language A\n",
      " Hindi\n",
      "Enter your name B\n",
      " Rahul\n",
      "Enter your favourite language B\n",
      " Hindi\n",
      "Enter your name C\n",
      " Sara\n",
      "Enter your favourite language C\n",
      " French\n",
      "Enter your name D\n",
      " Sahil\n",
      "Enter your favourite language D\n",
      " Spanish\n"
     ]
    },
    {
     "name": "stdout",
     "output_type": "stream",
     "text": [
      "{'Ram': 'Hindi', 'Rahul': 'Hindi', 'Sara': 'French', 'Sahil': 'Spanish'}\n"
     ]
    }
   ],
   "source": [
    "fav_lan = {}\n",
    "\n",
    "A = input(\"Enter your name A\\n\")\n",
    "a = input(\"Enter your favourite language A\\n\")\n",
    "\n",
    "B = input(\"Enter your name B\\n\")\n",
    "b = input(\"Enter your favourite language B\\n\")\n",
    "\n",
    "C = input(\"Enter your name C\\n\")\n",
    "c = input(\"Enter your favourite language C\\n\")\n",
    "\n",
    "D = input(\"Enter your name D\\n\")\n",
    "d = input(\"Enter your favourite language D\\n\")\n",
    "\n",
    "fav_lan[A] = a\n",
    "fav_lan[B] = b\n",
    "fav_lan[C] = c\n",
    "fav_lan[D] = d\n",
    "\n",
    "print(fav_lan)"
   ]
  },
  {
   "cell_type": "markdown",
   "id": "2bc70723-e03a-41a6-9765-243fd96e97cd",
   "metadata": {},
   "source": [
    "# 9.Can you change the values inside a list which is contained in set S.\n",
    "\n",
    "        S = {8,7,12,\"Aryan\",[1,2]}"
   ]
  },
  {
   "cell_type": "code",
   "execution_count": 48,
   "id": "1fde41aa-bf07-4c3c-900e-85daa367c617",
   "metadata": {},
   "outputs": [
    {
     "ename": "TypeError",
     "evalue": "unhashable type: 'list'",
     "output_type": "error",
     "traceback": [
      "\u001b[1;31m---------------------------------------------------------------------------\u001b[0m",
      "\u001b[1;31mTypeError\u001b[0m                                 Traceback (most recent call last)",
      "Cell \u001b[1;32mIn[48], line 1\u001b[0m\n\u001b[1;32m----> 1\u001b[0m S \u001b[38;5;241m=\u001b[39m {\u001b[38;5;241m8\u001b[39m,\u001b[38;5;241m7\u001b[39m,\u001b[38;5;241m12\u001b[39m,\u001b[38;5;124m\"\u001b[39m\u001b[38;5;124mAryan\u001b[39m\u001b[38;5;124m\"\u001b[39m,[\u001b[38;5;241m1\u001b[39m,\u001b[38;5;241m2\u001b[39m]}\n\u001b[0;32m      2\u001b[0m S[\u001b[38;5;241m0\u001b[39m] \u001b[38;5;241m=\u001b[39m \u001b[38;5;241m1\u001b[39m\n\u001b[0;32m      3\u001b[0m \u001b[38;5;28mprint\u001b[39m(S)\n",
      "\u001b[1;31mTypeError\u001b[0m: unhashable type: 'list'"
     ]
    }
   ],
   "source": [
    "S = {8,7,12,\"Aryan\",[1,2]}\n",
    "S[0] = 1\n",
    "print(S)"
   ]
  }
 ],
 "metadata": {
  "kernelspec": {
   "display_name": "Python 3 (ipykernel)",
   "language": "python",
   "name": "python3"
  },
  "language_info": {
   "codemirror_mode": {
    "name": "ipython",
    "version": 3
   },
   "file_extension": ".py",
   "mimetype": "text/x-python",
   "name": "python",
   "nbconvert_exporter": "python",
   "pygments_lexer": "ipython3",
   "version": "3.11.7"
  }
 },
 "nbformat": 4,
 "nbformat_minor": 5
}
